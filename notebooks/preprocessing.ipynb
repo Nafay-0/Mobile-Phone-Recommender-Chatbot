{
 "cells": [
  {
   "cell_type": "code",
   "execution_count": 1,
   "id": "initial_id",
   "metadata": {
    "collapsed": true,
    "ExecuteTime": {
     "end_time": "2024-03-02T19:53:21.364345Z",
     "start_time": "2024-03-02T19:53:20.274631Z"
    }
   },
   "outputs": [],
   "source": [
    "import pandas as pd\n",
    "import numpy as np\n",
    "import matplotlib.pyplot as plt"
   ]
  },
  {
   "cell_type": "code",
   "execution_count": 2,
   "id": "228b9c7612a1c2c5",
   "metadata": {
    "ExecuteTime": {
     "end_time": "2024-03-02T19:53:21.610216Z",
     "start_time": "2024-03-02T19:53:21.354733Z"
    }
   },
   "outputs": [],
   "source": [
    "directory = \"../data/products.csv\"\n",
    "df = pd.read_csv(directory,delimiter=\"|\")"
   ]
  },
  {
   "cell_type": "code",
   "execution_count": 5,
   "id": "88b1449a0463127d",
   "metadata": {
    "ExecuteTime": {
     "end_time": "2024-03-02T15:25:19.611551Z",
     "start_time": "2024-03-02T15:25:19.555210Z"
    }
   },
   "outputs": [
    {
     "data": {
      "text/html": [
       "<div>\n",
       "<style scoped>\n",
       "    .dataframe tbody tr th:only-of-type {\n",
       "        vertical-align: middle;\n",
       "    }\n",
       "\n",
       "    .dataframe tbody tr th {\n",
       "        vertical-align: top;\n",
       "    }\n",
       "\n",
       "    .dataframe thead th {\n",
       "        text-align: right;\n",
       "    }\n",
       "</style>\n",
       "<table border=\"1\" class=\"dataframe\">\n",
       "  <thead>\n",
       "    <tr style=\"text-align: right;\">\n",
       "      <th></th>\n",
       "      <th>asin</th>\n",
       "      <th>category</th>\n",
       "      <th>description</th>\n",
       "      <th>title</th>\n",
       "      <th>brand</th>\n",
       "      <th>price</th>\n",
       "      <th>feature</th>\n",
       "      <th>imageURL</th>\n",
       "      <th>price_category</th>\n",
       "      <th>price_range</th>\n",
       "    </tr>\n",
       "  </thead>\n",
       "  <tbody>\n",
       "    <tr>\n",
       "      <th>0</th>\n",
       "      <td>B000DZXJSC</td>\n",
       "      <td>Cell Phones</td>\n",
       "      <td>The Samsung SCH-a950 is red, hot and loaded wi...</td>\n",
       "      <td>Samsung A950 (Verizon Wireless)</td>\n",
       "      <td>Samsung</td>\n",
       "      <td>17.99</td>\n",
       "      <td>['Streaming TV and Music With Verizon VCAST Se...</td>\n",
       "      <td>['https://images-na.ssl-images-amazon.com/imag...</td>\n",
       "      <td>Budget</td>\n",
       "      <td>$0 - $200</td>\n",
       "    </tr>\n",
       "    <tr>\n",
       "      <th>1</th>\n",
       "      <td>B000FJ1XWA</td>\n",
       "      <td>Cell Phones</td>\n",
       "      <td>The Nokia 1100 phone lets you conduct business...</td>\n",
       "      <td>Unlocked Nokia 1100</td>\n",
       "      <td>Nokia</td>\n",
       "      <td>40.08</td>\n",
       "      <td>['Unlocked Nokia 1100', 'Unlocked Nokia 1100',...</td>\n",
       "      <td>['https://images-na.ssl-images-amazon.com/imag...</td>\n",
       "      <td>Budget</td>\n",
       "      <td>$0 - $200</td>\n",
       "    </tr>\n",
       "    <tr>\n",
       "      <th>2</th>\n",
       "      <td>B000G2TLIO</td>\n",
       "      <td>Cell Phones</td>\n",
       "      <td>The sleek VX8300 is built for serious mobile f...</td>\n",
       "      <td>Verizon or PagePlus LG VX8300 Great Condition ...</td>\n",
       "      <td>LG</td>\n",
       "      <td>27.57</td>\n",
       "      <td>['This product has been carefully audited and ...</td>\n",
       "      <td>['https://images-na.ssl-images-amazon.com/imag...</td>\n",
       "      <td>Budget</td>\n",
       "      <td>$0 - $200</td>\n",
       "    </tr>\n",
       "    <tr>\n",
       "      <th>3</th>\n",
       "      <td>B000G7LZCO</td>\n",
       "      <td>Cell Phones</td>\n",
       "      <td>The Moto Razr V3 is expertly crafted to delive...</td>\n",
       "      <td>Motorola RAZR V3 Unlocked Phone with Camera, V...</td>\n",
       "      <td>Motorola</td>\n",
       "      <td>105.99</td>\n",
       "      <td>['This unlocked cell phone is compatible with ...</td>\n",
       "      <td>['https://images-na.ssl-images-amazon.com/imag...</td>\n",
       "      <td>Budget</td>\n",
       "      <td>$0 - $200</td>\n",
       "    </tr>\n",
       "    <tr>\n",
       "      <th>4</th>\n",
       "      <td>B000MXF2IK</td>\n",
       "      <td>Cell Phones</td>\n",
       "      <td>GSM/EDGE coverage (900/1800/1900 MHz))  Dimens...</td>\n",
       "      <td>Nokia 6300 Unlocked Triband Camera Business Phone</td>\n",
       "      <td>Nokia</td>\n",
       "      <td>40.08</td>\n",
       "      <td>['Nokia 6300 - Silver black (Unlocked) Mobile ...</td>\n",
       "      <td>['https://images-na.ssl-images-amazon.com/imag...</td>\n",
       "      <td>Budget</td>\n",
       "      <td>$0 - $200</td>\n",
       "    </tr>\n",
       "  </tbody>\n",
       "</table>\n",
       "</div>"
      ],
      "text/plain": [
       "         asin     category                                        description  \\\n",
       "0  B000DZXJSC  Cell Phones  The Samsung SCH-a950 is red, hot and loaded wi...   \n",
       "1  B000FJ1XWA  Cell Phones  The Nokia 1100 phone lets you conduct business...   \n",
       "2  B000G2TLIO  Cell Phones  The sleek VX8300 is built for serious mobile f...   \n",
       "3  B000G7LZCO  Cell Phones  The Moto Razr V3 is expertly crafted to delive...   \n",
       "4  B000MXF2IK  Cell Phones  GSM/EDGE coverage (900/1800/1900 MHz))  Dimens...   \n",
       "\n",
       "                                               title     brand   price  \\\n",
       "0                    Samsung A950 (Verizon Wireless)   Samsung   17.99   \n",
       "1                                Unlocked Nokia 1100     Nokia   40.08   \n",
       "2  Verizon or PagePlus LG VX8300 Great Condition ...        LG   27.57   \n",
       "3  Motorola RAZR V3 Unlocked Phone with Camera, V...  Motorola  105.99   \n",
       "4  Nokia 6300 Unlocked Triband Camera Business Phone     Nokia   40.08   \n",
       "\n",
       "                                             feature  \\\n",
       "0  ['Streaming TV and Music With Verizon VCAST Se...   \n",
       "1  ['Unlocked Nokia 1100', 'Unlocked Nokia 1100',...   \n",
       "2  ['This product has been carefully audited and ...   \n",
       "3  ['This unlocked cell phone is compatible with ...   \n",
       "4  ['Nokia 6300 - Silver black (Unlocked) Mobile ...   \n",
       "\n",
       "                                            imageURL price_category  \\\n",
       "0  ['https://images-na.ssl-images-amazon.com/imag...         Budget   \n",
       "1  ['https://images-na.ssl-images-amazon.com/imag...         Budget   \n",
       "2  ['https://images-na.ssl-images-amazon.com/imag...         Budget   \n",
       "3  ['https://images-na.ssl-images-amazon.com/imag...         Budget   \n",
       "4  ['https://images-na.ssl-images-amazon.com/imag...         Budget   \n",
       "\n",
       "  price_range  \n",
       "0   $0 - $200  \n",
       "1   $0 - $200  \n",
       "2   $0 - $200  \n",
       "3   $0 - $200  \n",
       "4   $0 - $200  "
      ]
     },
     "execution_count": 5,
     "metadata": {},
     "output_type": "execute_result"
    }
   ],
   "source": [
    "df.head()"
   ]
  },
  {
   "cell_type": "code",
   "execution_count": 6,
   "id": "c69086600498d537",
   "metadata": {
    "ExecuteTime": {
     "end_time": "2024-03-02T15:25:25.806251Z",
     "start_time": "2024-03-02T15:25:25.802188Z"
    }
   },
   "outputs": [
    {
     "name": "stdout",
     "output_type": "stream",
     "text": [
      "<class 'pandas.core.frame.DataFrame'>\n",
      "RangeIndex: 1215 entries, 0 to 1214\n",
      "Data columns (total 10 columns):\n",
      " #   Column          Non-Null Count  Dtype  \n",
      "---  ------          --------------  -----  \n",
      " 0   asin            1215 non-null   object \n",
      " 1   category        1215 non-null   object \n",
      " 2   description     1215 non-null   object \n",
      " 3   title           1215 non-null   object \n",
      " 4   brand           1215 non-null   object \n",
      " 5   price           1215 non-null   float64\n",
      " 6   feature         1215 non-null   object \n",
      " 7   imageURL        1215 non-null   object \n",
      " 8   price_category  1215 non-null   object \n",
      " 9   price_range     1215 non-null   object \n",
      "dtypes: float64(1), object(9)\n",
      "memory usage: 95.0+ KB\n"
     ]
    }
   ],
   "source": [
    "df.info()"
   ]
  },
  {
   "cell_type": "code",
   "execution_count": 9,
   "id": "ef52ea74d22b188f",
   "metadata": {
    "ExecuteTime": {
     "end_time": "2024-03-02T15:26:17.669273Z",
     "start_time": "2024-03-02T15:26:17.667455Z"
    }
   },
   "outputs": [
    {
     "name": "stdout",
     "output_type": "stream",
     "text": [
      "Index(['asin', 'category', 'description', 'title', 'brand', 'price', 'feature',\n",
      "       'imageURL', 'price_category', 'price_range'],\n",
      "      dtype='object')\n"
     ]
    }
   ],
   "source": [
    "print(df.columns)"
   ]
  },
  {
   "cell_type": "code",
   "execution_count": 10,
   "id": "46ea30423578e7f5",
   "metadata": {
    "ExecuteTime": {
     "end_time": "2024-03-02T15:26:19.440722Z",
     "start_time": "2024-03-02T15:26:19.436332Z"
    }
   },
   "outputs": [
    {
     "data": {
      "text/html": [
       "<div>\n",
       "<style scoped>\n",
       "    .dataframe tbody tr th:only-of-type {\n",
       "        vertical-align: middle;\n",
       "    }\n",
       "\n",
       "    .dataframe tbody tr th {\n",
       "        vertical-align: top;\n",
       "    }\n",
       "\n",
       "    .dataframe thead th {\n",
       "        text-align: right;\n",
       "    }\n",
       "</style>\n",
       "<table border=\"1\" class=\"dataframe\">\n",
       "  <thead>\n",
       "    <tr style=\"text-align: right;\">\n",
       "      <th></th>\n",
       "      <th>price</th>\n",
       "    </tr>\n",
       "  </thead>\n",
       "  <tbody>\n",
       "    <tr>\n",
       "      <th>count</th>\n",
       "      <td>1215.000000</td>\n",
       "    </tr>\n",
       "    <tr>\n",
       "      <th>mean</th>\n",
       "      <td>98.224864</td>\n",
       "    </tr>\n",
       "    <tr>\n",
       "      <th>std</th>\n",
       "      <td>97.127700</td>\n",
       "    </tr>\n",
       "    <tr>\n",
       "      <th>min</th>\n",
       "      <td>4.800000</td>\n",
       "    </tr>\n",
       "    <tr>\n",
       "      <th>25%</th>\n",
       "      <td>38.995000</td>\n",
       "    </tr>\n",
       "    <tr>\n",
       "      <th>50%</th>\n",
       "      <td>61.130000</td>\n",
       "    </tr>\n",
       "    <tr>\n",
       "      <th>75%</th>\n",
       "      <td>119.985000</td>\n",
       "    </tr>\n",
       "    <tr>\n",
       "      <th>max</th>\n",
       "      <td>706.090000</td>\n",
       "    </tr>\n",
       "  </tbody>\n",
       "</table>\n",
       "</div>"
      ],
      "text/plain": [
       "             price\n",
       "count  1215.000000\n",
       "mean     98.224864\n",
       "std      97.127700\n",
       "min       4.800000\n",
       "25%      38.995000\n",
       "50%      61.130000\n",
       "75%     119.985000\n",
       "max     706.090000"
      ]
     },
     "execution_count": 10,
     "metadata": {},
     "output_type": "execute_result"
    }
   ],
   "source": [
    "df.describe()"
   ]
  },
  {
   "cell_type": "code",
   "execution_count": 14,
   "id": "95c806c456ee671d",
   "metadata": {
    "ExecuteTime": {
     "end_time": "2024-03-02T15:26:46.730336Z",
     "start_time": "2024-03-02T15:26:46.729645Z"
    }
   },
   "outputs": [
    {
     "name": "stdout",
     "output_type": "stream",
     "text": [
      "Total number of products:  1215\n"
     ]
    }
   ],
   "source": [
    "# Total number of products\n",
    "print(\"Total number of products: \",df[\"asin\"].nunique())"
   ]
  },
  {
   "cell_type": "code",
   "execution_count": 15,
   "id": "5ec2059f6c41e3f3",
   "metadata": {
    "ExecuteTime": {
     "end_time": "2024-03-02T15:27:39.370373Z",
     "start_time": "2024-03-02T15:27:39.366852Z"
    }
   },
   "outputs": [
    {
     "name": "stdout",
     "output_type": "stream",
     "text": [
      "Total number of categories:  1\n"
     ]
    }
   ],
   "source": [
    "# Total number of categories\n",
    "print(\"Total number of categories: \",df[\"category\"].nunique())"
   ]
  },
  {
   "cell_type": "code",
   "execution_count": 16,
   "id": "28b07accf97c9a53",
   "metadata": {
    "ExecuteTime": {
     "end_time": "2024-03-02T15:28:12.722825Z",
     "start_time": "2024-03-02T15:28:12.720107Z"
    }
   },
   "outputs": [
    {
     "name": "stdout",
     "output_type": "stream",
     "text": [
      "asin              0\n",
      "category          0\n",
      "description       0\n",
      "title             0\n",
      "brand             0\n",
      "price             0\n",
      "feature           0\n",
      "imageURL          0\n",
      "price_category    0\n",
      "price_range       0\n",
      "dtype: int64\n"
     ]
    }
   ],
   "source": [
    "# total rows with null values\n",
    "print(df.isnull().sum())"
   ]
  },
  {
   "cell_type": "code",
   "execution_count": 4,
   "id": "7acf3072f6d9fee5",
   "metadata": {
    "ExecuteTime": {
     "end_time": "2024-03-02T19:53:30.983217Z",
     "start_time": "2024-03-02T19:53:30.979416Z"
    }
   },
   "outputs": [],
   "source": [
    "#remove column \"category\" as it is not required\n",
    "df = df.drop(columns=[\"category\"])"
   ]
  },
  {
   "cell_type": "code",
   "execution_count": 5,
   "id": "e345ac48e6c2ac1d",
   "metadata": {
    "ExecuteTime": {
     "end_time": "2024-03-02T19:53:31.353217Z",
     "start_time": "2024-03-02T19:53:31.350672Z"
    }
   },
   "outputs": [],
   "source": [
    "# Divide into 4 equal files\n",
    "df1 = df.iloc[:int(len(df)/4)]\n",
    "df2 = df.iloc[int(len(df)/4):int(len(df)/2)]\n",
    "df3 = df.iloc[int(len(df)/2):int(3*len(df)/4)]\n",
    "df4 = df.iloc[int(3*len(df)/4):]\n",
    "\n"
   ]
  },
  {
   "cell_type": "code",
   "execution_count": 19,
   "id": "839416215aa9c961",
   "metadata": {
    "ExecuteTime": {
     "end_time": "2024-03-02T15:42:42.340260Z",
     "start_time": "2024-03-02T15:42:41.891485Z"
    }
   },
   "outputs": [],
   "source": [
    "# Write to csv\n",
    "df1.to_csv(\"../data/products1.csv\",index=False,sep=\"|\")\n",
    "df2.to_csv(\"../data/products2.csv\",index=False,sep=\"|\")\n",
    "df3.to_csv(\"../data/products3.csv\",index=False,sep=\"|\")\n",
    "df4.to_csv(\"../data/products4.csv\",index=False,sep=\"|\")\n"
   ]
  },
  {
   "cell_type": "code",
   "execution_count": 6,
   "id": "54b4a950737c0c80",
   "metadata": {
    "ExecuteTime": {
     "end_time": "2024-03-02T19:54:00.920482Z",
     "start_time": "2024-03-02T19:54:00.875565Z"
    }
   },
   "outputs": [],
   "source": [
    "df_test = df1.iloc[200:500]\n",
    "df_test.to_csv(\"../data/products_test1.csv\",index=False,sep=\"|\")\n"
   ]
  },
  {
   "cell_type": "code",
   "execution_count": 8,
   "id": "8a34ebd0f27a6cac",
   "metadata": {
    "ExecuteTime": {
     "end_time": "2024-03-02T19:54:37.324042Z",
     "start_time": "2024-03-02T19:54:37.187325Z"
    }
   },
   "outputs": [],
   "source": [
    "from langchain_community.document_loaders import CSVLoader\n",
    "import sys\n",
    "import csv\n",
    "csv.field_size_limit(sys.maxsize)\n",
    "file = \"../data/products_test1.csv\"\n",
    "\n",
    "\n",
    "loader = CSVLoader(file,csv_args={\"delimiter\": \"|\"})\n",
    "documents = loader.load_and_split()"
   ]
  },
  {
   "cell_type": "code",
   "execution_count": 9,
   "id": "802a521096e7ae71",
   "metadata": {
    "ExecuteTime": {
     "end_time": "2024-03-02T19:54:40.809642Z",
     "start_time": "2024-03-02T19:54:40.792319Z"
    }
   },
   "outputs": [
    {
     "data": {
      "text/plain": "Document(page_content=\"asin: B0085EIE38\\ndescription: No matter what you're into, BlackBerry Curve 9320 Smartphone have what you need to keep up, including a powerful processor and super fast browser. And with a 3.2 MP camera with flash, you'll be ready to capture all those fun and memorable moments. The easy-to-use next generation BlackBerry 7 OS delivers the smoothest and fastest BlackBerry experience to date. Get connected in an instant with the dedicated BBM shortcut key on BlackBerry Curve 9320 Smartphone. One touch launches the BBM app so you can chat in real time or share pictures, videos and files. Plan a night out with a group message, or chat privately one-to-one. BBM is built into your favorite apps like Facebook and Twitter, so you can share your Facebook status update or latest Tweet without ever leaving the app. Stay in touch when it counts. With the longest lasting battery yet in a 2G/3G BlackBerry Curve Smartphone, you can get things done and connect with the people who matter most. The next generation BlackBerry operating system (OS) is packed with powerful new features and innovative pre-installed apps. It delivers the smoothest and fastest BlackBerry experience to date. Plus, enjoy voice-activated universal search with Bing Auto Suggest in the BlackBerry Browser to find what you're looking for hands-free. Connect to friends and family, and get things done on the go with Wi-Fi connectivity.2 Now you can use Wi-Fi instead of your plan's minutes for calling on your BlackBerry Curve 9320. Unlocked, compatible with T-mobile, not compatible with AT&T / Sprint / Verizon\\ntitle: Blackberry Curve 9320 Unlocked GSM OS 7.1 Smartphone - 2g Only, Not Compatible with AT&amp;T/Verizon Black\\nbrand: BlackBerry\\nprice: 26.76\", metadata={'source': '../data/products_test1.csv', 'row': 0})"
     },
     "execution_count": 9,
     "metadata": {},
     "output_type": "execute_result"
    }
   ],
   "source": [
    "documents[0]"
   ]
  },
  {
   "cell_type": "code",
   "execution_count": 10,
   "id": "3c6edbaa318bcffa",
   "metadata": {
    "ExecuteTime": {
     "end_time": "2024-03-02T19:54:52.258948Z",
     "start_time": "2024-03-02T19:54:52.241868Z"
    }
   },
   "outputs": [],
   "source": [
    "from langchain_community.vectorstores.chroma import Chroma\n",
    "\n",
    "def add_docs_to_existing_db(docs, embeddings,path = \"../src/app/Chroma\" ):\n",
    "    # Load vector database\n",
    "    db = Chroma(persist_directory=path, embedding_function=embeddings)\n",
    "    if db is None:\n",
    "        raise Exception(\"Vector database not found\")\n",
    "    db.add_documents(docs)\n",
    "    db.persist()\n",
    "    return db"
   ]
  },
  {
   "cell_type": "code",
   "execution_count": 11,
   "id": "69df7cf45f2675c",
   "metadata": {
    "ExecuteTime": {
     "end_time": "2024-03-02T19:55:34.273507Z",
     "start_time": "2024-03-02T19:54:58.837932Z"
    }
   },
   "outputs": [
    {
     "data": {
      "text/plain": "<langchain_community.vectorstores.chroma.Chroma at 0x137df7cd0>"
     },
     "execution_count": 11,
     "metadata": {},
     "output_type": "execute_result"
    }
   ],
   "source": [
    "from langchain_openai import OpenAIEmbeddings\n",
    "from dotenv import load_dotenv\n",
    "load_dotenv()\n",
    "embeddings = OpenAIEmbeddings(model=\"text-embedding-3-large\")\n",
    "add_docs_to_existing_db(documents, embeddings)"
   ]
  },
  {
   "cell_type": "code",
   "execution_count": null,
   "id": "d44b4a803ce1332d",
   "metadata": {},
   "outputs": [],
   "source": []
  }
 ],
 "metadata": {
  "kernelspec": {
   "display_name": "Python 3 (ipykernel)",
   "language": "python",
   "name": "python3"
  },
  "language_info": {
   "codemirror_mode": {
    "name": "ipython",
    "version": 3
   },
   "file_extension": ".py",
   "mimetype": "text/x-python",
   "name": "python",
   "nbconvert_exporter": "python",
   "pygments_lexer": "ipython3",
   "version": "3.11.3"
  }
 },
 "nbformat": 4,
 "nbformat_minor": 5
}
