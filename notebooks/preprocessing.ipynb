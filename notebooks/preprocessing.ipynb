{
 "cells": [
  {
   "cell_type": "code",
   "execution_count": 2,
   "id": "initial_id",
   "metadata": {
    "collapsed": true,
    "ExecuteTime": {
     "end_time": "2024-03-02T15:23:57.212058Z",
     "start_time": "2024-03-02T15:23:44.859537Z"
    }
   },
   "outputs": [],
   "source": [
    "import pandas as pd\n",
    "import numpy as np\n",
    "import matplotlib.pyplot as plt"
   ]
  },
  {
   "cell_type": "code",
   "execution_count": 4,
   "outputs": [],
   "source": [
    "directory = \"../data/products.csv\"\n",
    "df = pd.read_csv(directory,delimiter=\"|\")"
   ],
   "metadata": {
    "collapsed": false,
    "ExecuteTime": {
     "end_time": "2024-03-02T15:25:15.480157Z",
     "start_time": "2024-03-02T15:25:15.038830Z"
    }
   },
   "id": "228b9c7612a1c2c5"
  },
  {
   "cell_type": "code",
   "execution_count": 5,
   "outputs": [
    {
     "data": {
      "text/plain": "         asin     category                                        description  \\\n0  B000DZXJSC  Cell Phones  The Samsung SCH-a950 is red, hot and loaded wi...   \n1  B000FJ1XWA  Cell Phones  The Nokia 1100 phone lets you conduct business...   \n2  B000G2TLIO  Cell Phones  The sleek VX8300 is built for serious mobile f...   \n3  B000G7LZCO  Cell Phones  The Moto Razr V3 is expertly crafted to delive...   \n4  B000MXF2IK  Cell Phones  GSM/EDGE coverage (900/1800/1900 MHz))  Dimens...   \n\n                                               title     brand   price  \\\n0                    Samsung A950 (Verizon Wireless)   Samsung   17.99   \n1                                Unlocked Nokia 1100     Nokia   40.08   \n2  Verizon or PagePlus LG VX8300 Great Condition ...        LG   27.57   \n3  Motorola RAZR V3 Unlocked Phone with Camera, V...  Motorola  105.99   \n4  Nokia 6300 Unlocked Triband Camera Business Phone     Nokia   40.08   \n\n                                             feature  \\\n0  ['Streaming TV and Music With Verizon VCAST Se...   \n1  ['Unlocked Nokia 1100', 'Unlocked Nokia 1100',...   \n2  ['This product has been carefully audited and ...   \n3  ['This unlocked cell phone is compatible with ...   \n4  ['Nokia 6300 - Silver black (Unlocked) Mobile ...   \n\n                                            imageURL price_category  \\\n0  ['https://images-na.ssl-images-amazon.com/imag...         Budget   \n1  ['https://images-na.ssl-images-amazon.com/imag...         Budget   \n2  ['https://images-na.ssl-images-amazon.com/imag...         Budget   \n3  ['https://images-na.ssl-images-amazon.com/imag...         Budget   \n4  ['https://images-na.ssl-images-amazon.com/imag...         Budget   \n\n  price_range  \n0   $0 - $200  \n1   $0 - $200  \n2   $0 - $200  \n3   $0 - $200  \n4   $0 - $200  ",
      "text/html": "<div>\n<style scoped>\n    .dataframe tbody tr th:only-of-type {\n        vertical-align: middle;\n    }\n\n    .dataframe tbody tr th {\n        vertical-align: top;\n    }\n\n    .dataframe thead th {\n        text-align: right;\n    }\n</style>\n<table border=\"1\" class=\"dataframe\">\n  <thead>\n    <tr style=\"text-align: right;\">\n      <th></th>\n      <th>asin</th>\n      <th>category</th>\n      <th>description</th>\n      <th>title</th>\n      <th>brand</th>\n      <th>price</th>\n      <th>feature</th>\n      <th>imageURL</th>\n      <th>price_category</th>\n      <th>price_range</th>\n    </tr>\n  </thead>\n  <tbody>\n    <tr>\n      <th>0</th>\n      <td>B000DZXJSC</td>\n      <td>Cell Phones</td>\n      <td>The Samsung SCH-a950 is red, hot and loaded wi...</td>\n      <td>Samsung A950 (Verizon Wireless)</td>\n      <td>Samsung</td>\n      <td>17.99</td>\n      <td>['Streaming TV and Music With Verizon VCAST Se...</td>\n      <td>['https://images-na.ssl-images-amazon.com/imag...</td>\n      <td>Budget</td>\n      <td>$0 - $200</td>\n    </tr>\n    <tr>\n      <th>1</th>\n      <td>B000FJ1XWA</td>\n      <td>Cell Phones</td>\n      <td>The Nokia 1100 phone lets you conduct business...</td>\n      <td>Unlocked Nokia 1100</td>\n      <td>Nokia</td>\n      <td>40.08</td>\n      <td>['Unlocked Nokia 1100', 'Unlocked Nokia 1100',...</td>\n      <td>['https://images-na.ssl-images-amazon.com/imag...</td>\n      <td>Budget</td>\n      <td>$0 - $200</td>\n    </tr>\n    <tr>\n      <th>2</th>\n      <td>B000G2TLIO</td>\n      <td>Cell Phones</td>\n      <td>The sleek VX8300 is built for serious mobile f...</td>\n      <td>Verizon or PagePlus LG VX8300 Great Condition ...</td>\n      <td>LG</td>\n      <td>27.57</td>\n      <td>['This product has been carefully audited and ...</td>\n      <td>['https://images-na.ssl-images-amazon.com/imag...</td>\n      <td>Budget</td>\n      <td>$0 - $200</td>\n    </tr>\n    <tr>\n      <th>3</th>\n      <td>B000G7LZCO</td>\n      <td>Cell Phones</td>\n      <td>The Moto Razr V3 is expertly crafted to delive...</td>\n      <td>Motorola RAZR V3 Unlocked Phone with Camera, V...</td>\n      <td>Motorola</td>\n      <td>105.99</td>\n      <td>['This unlocked cell phone is compatible with ...</td>\n      <td>['https://images-na.ssl-images-amazon.com/imag...</td>\n      <td>Budget</td>\n      <td>$0 - $200</td>\n    </tr>\n    <tr>\n      <th>4</th>\n      <td>B000MXF2IK</td>\n      <td>Cell Phones</td>\n      <td>GSM/EDGE coverage (900/1800/1900 MHz))  Dimens...</td>\n      <td>Nokia 6300 Unlocked Triband Camera Business Phone</td>\n      <td>Nokia</td>\n      <td>40.08</td>\n      <td>['Nokia 6300 - Silver black (Unlocked) Mobile ...</td>\n      <td>['https://images-na.ssl-images-amazon.com/imag...</td>\n      <td>Budget</td>\n      <td>$0 - $200</td>\n    </tr>\n  </tbody>\n</table>\n</div>"
     },
     "execution_count": 5,
     "metadata": {},
     "output_type": "execute_result"
    }
   ],
   "source": [
    "df.head()"
   ],
   "metadata": {
    "collapsed": false,
    "ExecuteTime": {
     "end_time": "2024-03-02T15:25:19.611551Z",
     "start_time": "2024-03-02T15:25:19.555210Z"
    }
   },
   "id": "88b1449a0463127d"
  },
  {
   "cell_type": "code",
   "execution_count": 6,
   "outputs": [
    {
     "name": "stdout",
     "output_type": "stream",
     "text": [
      "<class 'pandas.core.frame.DataFrame'>\n",
      "RangeIndex: 1215 entries, 0 to 1214\n",
      "Data columns (total 10 columns):\n",
      " #   Column          Non-Null Count  Dtype  \n",
      "---  ------          --------------  -----  \n",
      " 0   asin            1215 non-null   object \n",
      " 1   category        1215 non-null   object \n",
      " 2   description     1215 non-null   object \n",
      " 3   title           1215 non-null   object \n",
      " 4   brand           1215 non-null   object \n",
      " 5   price           1215 non-null   float64\n",
      " 6   feature         1215 non-null   object \n",
      " 7   imageURL        1215 non-null   object \n",
      " 8   price_category  1215 non-null   object \n",
      " 9   price_range     1215 non-null   object \n",
      "dtypes: float64(1), object(9)\n",
      "memory usage: 95.0+ KB\n"
     ]
    }
   ],
   "source": [
    "df.info()"
   ],
   "metadata": {
    "collapsed": false,
    "ExecuteTime": {
     "end_time": "2024-03-02T15:25:25.806251Z",
     "start_time": "2024-03-02T15:25:25.802188Z"
    }
   },
   "id": "c69086600498d537"
  },
  {
   "cell_type": "code",
   "execution_count": 9,
   "outputs": [
    {
     "name": "stdout",
     "output_type": "stream",
     "text": [
      "Index(['asin', 'category', 'description', 'title', 'brand', 'price', 'feature',\n",
      "       'imageURL', 'price_category', 'price_range'],\n",
      "      dtype='object')\n"
     ]
    }
   ],
   "source": [
    "print(df.columns)"
   ],
   "metadata": {
    "collapsed": false,
    "ExecuteTime": {
     "end_time": "2024-03-02T15:26:17.669273Z",
     "start_time": "2024-03-02T15:26:17.667455Z"
    }
   },
   "id": "ef52ea74d22b188f"
  },
  {
   "cell_type": "code",
   "execution_count": 10,
   "outputs": [
    {
     "data": {
      "text/plain": "             price\ncount  1215.000000\nmean     98.224864\nstd      97.127700\nmin       4.800000\n25%      38.995000\n50%      61.130000\n75%     119.985000\nmax     706.090000",
      "text/html": "<div>\n<style scoped>\n    .dataframe tbody tr th:only-of-type {\n        vertical-align: middle;\n    }\n\n    .dataframe tbody tr th {\n        vertical-align: top;\n    }\n\n    .dataframe thead th {\n        text-align: right;\n    }\n</style>\n<table border=\"1\" class=\"dataframe\">\n  <thead>\n    <tr style=\"text-align: right;\">\n      <th></th>\n      <th>price</th>\n    </tr>\n  </thead>\n  <tbody>\n    <tr>\n      <th>count</th>\n      <td>1215.000000</td>\n    </tr>\n    <tr>\n      <th>mean</th>\n      <td>98.224864</td>\n    </tr>\n    <tr>\n      <th>std</th>\n      <td>97.127700</td>\n    </tr>\n    <tr>\n      <th>min</th>\n      <td>4.800000</td>\n    </tr>\n    <tr>\n      <th>25%</th>\n      <td>38.995000</td>\n    </tr>\n    <tr>\n      <th>50%</th>\n      <td>61.130000</td>\n    </tr>\n    <tr>\n      <th>75%</th>\n      <td>119.985000</td>\n    </tr>\n    <tr>\n      <th>max</th>\n      <td>706.090000</td>\n    </tr>\n  </tbody>\n</table>\n</div>"
     },
     "execution_count": 10,
     "metadata": {},
     "output_type": "execute_result"
    }
   ],
   "source": [
    "df.describe()"
   ],
   "metadata": {
    "collapsed": false,
    "ExecuteTime": {
     "end_time": "2024-03-02T15:26:19.440722Z",
     "start_time": "2024-03-02T15:26:19.436332Z"
    }
   },
   "id": "46ea30423578e7f5"
  },
  {
   "cell_type": "code",
   "execution_count": 14,
   "outputs": [
    {
     "name": "stdout",
     "output_type": "stream",
     "text": [
      "Total number of products:  1215\n"
     ]
    }
   ],
   "source": [
    "# Total number of products\n",
    "print(\"Total number of products: \",df[\"asin\"].nunique())"
   ],
   "metadata": {
    "collapsed": false,
    "ExecuteTime": {
     "end_time": "2024-03-02T15:26:46.730336Z",
     "start_time": "2024-03-02T15:26:46.729645Z"
    }
   },
   "id": "95c806c456ee671d"
  },
  {
   "cell_type": "code",
   "execution_count": 15,
   "outputs": [
    {
     "name": "stdout",
     "output_type": "stream",
     "text": [
      "Total number of categories:  1\n"
     ]
    }
   ],
   "source": [
    "# Total number of categories\n",
    "print(\"Total number of categories: \",df[\"category\"].nunique())"
   ],
   "metadata": {
    "collapsed": false,
    "ExecuteTime": {
     "end_time": "2024-03-02T15:27:39.370373Z",
     "start_time": "2024-03-02T15:27:39.366852Z"
    }
   },
   "id": "5ec2059f6c41e3f3"
  },
  {
   "cell_type": "code",
   "execution_count": 16,
   "outputs": [
    {
     "name": "stdout",
     "output_type": "stream",
     "text": [
      "asin              0\n",
      "category          0\n",
      "description       0\n",
      "title             0\n",
      "brand             0\n",
      "price             0\n",
      "feature           0\n",
      "imageURL          0\n",
      "price_category    0\n",
      "price_range       0\n",
      "dtype: int64\n"
     ]
    }
   ],
   "source": [
    "# total rows with null values\n",
    "print(df.isnull().sum())"
   ],
   "metadata": {
    "collapsed": false,
    "ExecuteTime": {
     "end_time": "2024-03-02T15:28:12.722825Z",
     "start_time": "2024-03-02T15:28:12.720107Z"
    }
   },
   "id": "28b07accf97c9a53"
  },
  {
   "cell_type": "code",
   "execution_count": 17,
   "outputs": [],
   "source": [
    "#remove column \"category\" as it is not required\n",
    "df = df.drop(columns=[\"category\"])"
   ],
   "metadata": {
    "collapsed": false,
    "ExecuteTime": {
     "end_time": "2024-03-02T15:40:52.543876Z",
     "start_time": "2024-03-02T15:40:52.541103Z"
    }
   },
   "id": "7acf3072f6d9fee5"
  },
  {
   "cell_type": "code",
   "execution_count": 18,
   "outputs": [],
   "source": [
    "# Divide into 4 equal files\n",
    "df1 = df.iloc[:int(len(df)/4)]\n",
    "df2 = df.iloc[int(len(df)/4):int(len(df)/2)]\n",
    "df3 = df.iloc[int(len(df)/2):int(3*len(df)/4)]\n",
    "df4 = df.iloc[int(3*len(df)/4):]\n",
    "\n"
   ],
   "metadata": {
    "collapsed": false,
    "ExecuteTime": {
     "end_time": "2024-03-02T15:41:09.556136Z",
     "start_time": "2024-03-02T15:41:09.554984Z"
    }
   },
   "id": "e345ac48e6c2ac1d"
  },
  {
   "cell_type": "code",
   "execution_count": 19,
   "outputs": [],
   "source": [
    "# Write to csv\n",
    "df1.to_csv(\"../data/products1.csv\",index=False,sep=\"|\")\n",
    "df2.to_csv(\"../data/products2.csv\",index=False,sep=\"|\")\n",
    "df3.to_csv(\"../data/products3.csv\",index=False,sep=\"|\")\n",
    "df4.to_csv(\"../data/products4.csv\",index=False,sep=\"|\")\n"
   ],
   "metadata": {
    "collapsed": false,
    "ExecuteTime": {
     "end_time": "2024-03-02T15:42:42.340260Z",
     "start_time": "2024-03-02T15:42:41.891485Z"
    }
   },
   "id": "839416215aa9c961"
  },
  {
   "cell_type": "code",
   "execution_count": 20,
   "outputs": [],
   "source": [
    "df_test = df1.iloc[:100]\n",
    "df_test.to_csv(\"../data/products_test.csv\",index=False,sep=\"|\")\n"
   ],
   "metadata": {
    "collapsed": false,
    "ExecuteTime": {
     "end_time": "2024-03-02T15:43:56.357659Z",
     "start_time": "2024-03-02T15:43:56.287145Z"
    }
   },
   "id": "54b4a950737c0c80"
  },
  {
   "cell_type": "code",
   "execution_count": 27,
   "outputs": [],
   "source": [
    "from langchain_community.document_loaders import CSVLoader\n",
    "import sys\n",
    "import csv\n",
    "csv.field_size_limit(sys.maxsize)\n",
    "file = \"../data/products_test.csv\"\n",
    "\n",
    "\n",
    "loader = CSVLoader(file,csv_args={\"delimiter\": \"|\"})\n",
    "documents = loader.load_and_split()"
   ],
   "metadata": {
    "collapsed": false,
    "ExecuteTime": {
     "end_time": "2024-03-02T15:49:13.682959Z",
     "start_time": "2024-03-02T15:49:13.210241Z"
    }
   },
   "id": "8a34ebd0f27a6cac"
  },
  {
   "cell_type": "code",
   "execution_count": 29,
   "outputs": [
    {
     "data": {
      "text/plain": "Document(page_content=\"asin: B000DZXJSC\\ndescription: The Samsung SCH-a950 is red, hot and loaded with features, like V CAST Music. Add in Bluetooth&#xAE; (for certain profiles), a built-in 1.3 megapixel camera, camcorder and a stereo speakerphone, and you have one sizzling phone that's off-the-charts cool. Recommended for use with the Music Essential Kit.\\ntitle: Samsung A950 (Verizon Wireless)\\nbrand: Samsung\\nprice: 17.99\", metadata={'source': '../data/products_test.csv', 'row': 0})"
     },
     "execution_count": 29,
     "metadata": {},
     "output_type": "execute_result"
    }
   ],
   "source": [
    "documents[0]"
   ],
   "metadata": {
    "collapsed": false,
    "ExecuteTime": {
     "end_time": "2024-03-02T15:49:19.427120Z",
     "start_time": "2024-03-02T15:49:19.401436Z"
    }
   },
   "id": "802a521096e7ae71"
  },
  {
   "cell_type": "code",
   "execution_count": 30,
   "outputs": [],
   "source": [
    "from langchain_community.vectorstores.chroma import Chroma\n",
    "\n",
    "def add_docs_to_existing_db(docs, embeddings,path = \"../src/app/Chroma\" ):\n",
    "    # Load vector database\n",
    "    db = Chroma(persist_directory=path, embedding_function=embeddings)\n",
    "    if db is None:\n",
    "        raise Exception(\"Vector database not found\")\n",
    "    db.add_documents(docs)\n",
    "    db.persist()\n",
    "    return db"
   ],
   "metadata": {
    "collapsed": false,
    "ExecuteTime": {
     "end_time": "2024-03-02T15:50:44.946422Z",
     "start_time": "2024-03-02T15:50:44.918591Z"
    }
   },
   "id": "3c6edbaa318bcffa"
  },
  {
   "cell_type": "code",
   "execution_count": 33,
   "outputs": [
    {
     "data": {
      "text/plain": "<langchain_community.vectorstores.chroma.Chroma at 0x147b159c0>"
     },
     "execution_count": 33,
     "metadata": {},
     "output_type": "execute_result"
    }
   ],
   "source": [
    "from langchain_openai import OpenAIEmbeddings\n",
    "from dotenv import load_dotenv\n",
    "load_dotenv()\n",
    "embeddings = OpenAIEmbeddings(model=\"text-embedding-3-large\")\n",
    "add_docs_to_existing_db(documents, embeddings)"
   ],
   "metadata": {
    "collapsed": false,
    "ExecuteTime": {
     "end_time": "2024-03-02T15:54:08.238670Z",
     "start_time": "2024-03-02T15:52:52.596903Z"
    }
   },
   "id": "69df7cf45f2675c"
  },
  {
   "cell_type": "code",
   "execution_count": null,
   "outputs": [],
   "source": [],
   "metadata": {
    "collapsed": false
   },
   "id": "d44b4a803ce1332d"
  }
 ],
 "metadata": {
  "kernelspec": {
   "display_name": "Python 3",
   "language": "python",
   "name": "python3"
  },
  "language_info": {
   "codemirror_mode": {
    "name": "ipython",
    "version": 2
   },
   "file_extension": ".py",
   "mimetype": "text/x-python",
   "name": "python",
   "nbconvert_exporter": "python",
   "pygments_lexer": "ipython2",
   "version": "2.7.6"
  }
 },
 "nbformat": 4,
 "nbformat_minor": 5
}
